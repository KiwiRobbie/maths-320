{
 "cells": [
  {
   "cell_type": "code",
   "execution_count": 12,
   "metadata": {},
   "outputs": [],
   "source": [
    "import sympy as sp\n",
    "import numpy as np"
   ]
  },
  {
   "cell_type": "code",
   "execution_count": 13,
   "metadata": {},
   "outputs": [],
   "source": [
    "units = [\n",
    "    1, 3, 7, 9, 11, 13, 17, 19\n",
    "]"
   ]
  },
  {
   "cell_type": "code",
   "execution_count": 14,
   "metadata": {},
   "outputs": [
    {
     "name": "stdout",
     "output_type": "stream",
     "text": [
      " 1  3  7  9 11 13 17 19\n",
      " 3  9  1  7 13 19 11 17\n",
      " 7  1  9  3 17 11 19 13\n",
      " 9  7  3  1 19 17 13 11\n",
      "11 13 17 19  1  3  7  9\n",
      "13 19 11 17  3  9  1  7\n",
      "17 11 19 13  7  1  9  3\n",
      "19 17 13 11  9  7  3  1\n"
     ]
    }
   ],
   "source": [
    "for a in units: \n",
    "    row = []\n",
    "    for b in units: \n",
    "        c = a*b % 20\n",
    "        row.append( f\"{c:2d}\")\n",
    "    print(\" \".join(row))"
   ]
  },
  {
   "cell_type": "code",
   "execution_count": 15,
   "metadata": {},
   "outputs": [
    {
     "name": "stdout",
     "output_type": "stream",
     "text": [
      "1 1\n",
      "1 4\n",
      "1 4\n",
      "1 2\n",
      "1 2\n",
      "1 4\n",
      "1 4\n",
      "1 2\n"
     ]
    }
   ],
   "source": [
    "for a in units: \n",
    "    n = 1 \n",
    "    g = a \n",
    "    while g != 1: \n",
    "        g = a*g % 20 \n",
    "        n += 1\n",
    "    print(g,n)"
   ]
  },
  {
   "cell_type": "code",
   "execution_count": 21,
   "metadata": {},
   "outputs": [
    {
     "name": "stdout",
     "output_type": "stream",
     "text": [
      "1\n",
      "---\n",
      "1 1\n",
      "1 2\n",
      "\n",
      "0 2\n",
      "1 0\n",
      "\n",
      "2 1\n",
      "1 1\n",
      "\n",
      "\n",
      "2\n",
      "---\n",
      "2 0\n",
      "0 2\n",
      "\n",
      "2 0\n",
      "0 2\n",
      "\n",
      "2 0\n",
      "0 2\n",
      "\n",
      "\n",
      "3\n",
      "---\n",
      "2 2\n",
      "2 1\n",
      "\n",
      "0 1\n",
      "2 0\n",
      "\n",
      "1 2\n",
      "2 2\n",
      "\n",
      "\n",
      "4\n",
      "---\n",
      "1 0\n",
      "0 1\n",
      "\n",
      "1 0\n",
      "0 1\n",
      "\n",
      "1 0\n",
      "0 1\n",
      "\n",
      "\n",
      "8\n"
     ]
    }
   ],
   "source": [
    "N = 2\n",
    "\n",
    "a = [\n",
    "    [1, 1],\n",
    "    [1, 2]\n",
    "]\n",
    "b = [\n",
    "    [0, 2],\n",
    "    [1, 0]\n",
    "]\n",
    "\n",
    "def mat_mul(a: [[int]], b: [[int]]) -> [[int]]:\n",
    "    mat = []\n",
    "    for i in range(N):\n",
    "        row = []\n",
    "        for j in range(N):\n",
    "            a_row = a[i]\n",
    "            b_col = [b[k][j] for k in range(N)]\n",
    "            cell = sum(\n",
    "               a*b for a,b in zip(a_row,b_col)\n",
    "            )  % 3 \n",
    "            row.append(cell)\n",
    "        mat.append(row)\n",
    "    return mat\n",
    "\n",
    "def mat_exp(a: [[int]], exp: int):\n",
    "    mat = a \n",
    "    for i in range(exp-1): \n",
    "        mat = mat_mul(mat, a)\n",
    "    return mat \n",
    "\n",
    "def mat_eq(a: [[int]], b: [[int]]) -> bool:\n",
    "    for row_a, row_b in zip(a,b):\n",
    "        for entry_a, entry_b in zip(row_a, row_b):\n",
    "            if entry_a != entry_b:\n",
    "                return False \n",
    "    return True\n",
    "\n",
    "def pretty_print(mat: [[int]]):\n",
    "    for row in mat: \n",
    "        print(*row)\n",
    "\n",
    "MATRICIES = []\n",
    "for i in range(1,5): \n",
    " \n",
    "    print(i)\n",
    "    print(\"---\")\n",
    "    pretty_print(mat_exp(a,i))\n",
    "    print()\n",
    "    pretty_print(mat_exp(b,i))\n",
    "    print()\n",
    "    pretty_print(mat_exp(mat_mul(b,a),i))\n",
    "    print()\n",
    "    print()\n",
    "\n",
    "    new =  [\n",
    "        mat_exp(a,i),\n",
    "        mat_exp(b,i),\n",
    "        mat_exp(mat_mul(b,a),i),\n",
    "    ]\n",
    "    for A in new: \n",
    "        exists = False \n",
    "        for B in MATRICIES: \n",
    "            if mat_eq(A,B): \n",
    "                exists = True\n",
    "                break\n",
    "        if not exists: \n",
    "            MATRICIES.append(A)\n",
    "\n",
    "print(len(MATRICIES))\n"
   ]
  },
  {
   "cell_type": "code",
   "execution_count": 22,
   "metadata": {},
   "outputs": [
    {
     "name": "stdout",
     "output_type": "stream",
     "text": [
      "[[1, 1], [1, 2]]\n",
      "[[0, 2], [1, 0]]\n"
     ]
    },
    {
     "data": {
      "text/plain": [
       "[[1, 2], [2, 2]]"
      ]
     },
     "execution_count": 22,
     "metadata": {},
     "output_type": "execute_result"
    }
   ],
   "source": [
    "print(a)\n",
    "print(b)\n",
    "mat_mul(a,b)"
   ]
  },
  {
   "cell_type": "code",
   "execution_count": 18,
   "metadata": {},
   "outputs": [
    {
     "name": "stdout",
     "output_type": "stream",
     "text": [
      "2\n",
      "---\n",
      "2 0\n",
      "0 2\n",
      "\n",
      "1 0\n",
      "0 1\n",
      "\n"
     ]
    }
   ],
   "source": [
    "CENTER = []\n",
    "for a in MATRICIES:\n",
    "    in_center = True\n",
    "    for g in MATRICIES:\n",
    "        alpha = mat_mul(a,g)\n",
    "        beta  = mat_mul(g,a)\n",
    "        if not mat_eq(alpha, beta):\n",
    "            in_center = False\n",
    "            break \n",
    "    if in_center:\n",
    "        CENTER.append(a)\n",
    "\n",
    "print(len(CENTER))\n",
    "print(\"---\")\n",
    "for a in CENTER: \n",
    "    pretty_print(a)\n",
    "    print()"
   ]
  },
  {
   "cell_type": "code",
   "execution_count": 19,
   "metadata": {},
   "outputs": [
    {
     "name": "stdout",
     "output_type": "stream",
     "text": [
      "1 0\n",
      "0 1\n",
      "0 1\n",
      "2 0\n",
      "0 1\n",
      "2 0\n"
     ]
    }
   ],
   "source": [
    "\n",
    "c = mat_mul(b,a)\n",
    "pretty_print(mat_mul(a,mat_mul(a,a)))\n",
    "pretty_print(mat_mul(b,mat_mul(b,b)))\n",
    "pretty_print(mat_mul(c,mat_mul(c,c)))"
   ]
  },
  {
   "cell_type": "code",
   "execution_count": 20,
   "metadata": {},
   "outputs": [
    {
     "name": "stdout",
     "output_type": "stream",
     "text": [
      "1 1\n",
      "1 2\n",
      "\n",
      "2 1\n",
      "1 1\n",
      "\n",
      "Mat\n",
      "2 2\n",
      "2 1\n",
      "\n",
      "1 2\n",
      "2 2\n",
      "\n",
      "Mat\n",
      "4\n",
      "---\n",
      "0 2\n",
      "1 0\n",
      "\n",
      "2 0\n",
      "0 2\n",
      "\n",
      "0 1\n",
      "2 0\n",
      "\n",
      "1 0\n",
      "0 1\n",
      "\n"
     ]
    }
   ],
   "source": [
    "CENTER_AT_BA = []\n",
    "for a in MATRICIES:\n",
    "    in_center = True\n",
    "    if mat_eq(\n",
    "        mat_mul(a, c),\n",
    "        mat_mul(c, a)\n",
    "    ):\n",
    "        CENTER_AT_BA.append(a)\n",
    "    else: \n",
    "        [[_a,_b], [_c,_d]] = a\n",
    "        pretty_print(a)\n",
    "        print()\n",
    "        if _b == _c and _a == (_b + _d) % 3:\n",
    "            print(\"Mat\")\n",
    "\n",
    "\n",
    "print(len(CENTER_AT_BA))\n",
    "print(\"---\")\n",
    "for a in CENTER_AT_BA: \n",
    "    pretty_print(a)\n",
    "    print()"
   ]
  },
  {
   "cell_type": "code",
   "execution_count": null,
   "metadata": {},
   "outputs": [],
   "source": []
  }
 ],
 "metadata": {
  "kernelspec": {
   "display_name": "venv_maths",
   "language": "python",
   "name": "python3"
  },
  "language_info": {
   "codemirror_mode": {
    "name": "ipython",
    "version": 3
   },
   "file_extension": ".py",
   "mimetype": "text/x-python",
   "name": "python",
   "nbconvert_exporter": "python",
   "pygments_lexer": "ipython3",
   "version": "3.12.4"
  }
 },
 "nbformat": 4,
 "nbformat_minor": 2
}

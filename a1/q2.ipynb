{
 "cells": [
  {
   "cell_type": "code",
   "execution_count": 2,
   "metadata": {},
   "outputs": [],
   "source": [
    "import sympy as sp\n",
    "import numpy as np"
   ]
  },
  {
   "cell_type": "code",
   "execution_count": 6,
   "metadata": {},
   "outputs": [],
   "source": [
    "x = sp.Rational(-1,1)\n",
    "y = sp.Rational(-2,1)"
   ]
  },
  {
   "cell_type": "code",
   "execution_count": 13,
   "metadata": {},
   "outputs": [],
   "source": [
    "def op(a, b): \n",
    "    if a > 0: \n",
    "        return a * b\n",
    "    elif a < 0: \n",
    "        return a / b \n",
    "\n",
    "def inv(a):\n",
    "    if a>0: \n",
    "        return 1/a \n",
    "    elif a<0: \n",
    "        return a \n",
    "        "
   ]
  },
  {
   "cell_type": "code",
   "execution_count": 19,
   "metadata": {},
   "outputs": [],
   "source": [
    "def seq_x(n: int):\n",
    "    if n % 2 == 0:\n",
    "        return sp.Rational(1)\n",
    "    else:\n",
    "        return sp.Rational(-1)\n",
    "\n",
    "def seq_y(n: int):\n",
    "    if n % 2 == 0:\n",
    "        return sp.Rational(1)\n",
    "    else:\n",
    "        return sp.Rational(-2)"
   ]
  },
  {
   "cell_type": "code",
   "execution_count": 12,
   "metadata": {},
   "outputs": [
    {
     "name": "stdout",
     "output_type": "stream",
     "text": [
      "0 1\n",
      "1 -2\n",
      "2 1\n",
      "3 -2\n",
      "4 1\n",
      "5 -2\n",
      "6 1\n",
      "7 -2\n",
      "8 1\n",
      "9 -2\n"
     ]
    }
   ],
   "source": [
    "z = sp.Rational(1)\n",
    "n = 0\n",
    "for i in range(10):\n",
    "    print(n, z)\n",
    "    z = op(z,y)\n",
    "    n += 1"
   ]
  },
  {
   "cell_type": "code",
   "execution_count": 17,
   "metadata": {},
   "outputs": [
    {
     "data": {
      "text/latex": [
       "$\\displaystyle 1$"
      ],
      "text/plain": [
       "1"
      ]
     },
     "execution_count": 17,
     "metadata": {},
     "output_type": "execute_result"
    }
   ],
   "source": [
    "op(inv(y), y)"
   ]
  },
  {
   "cell_type": "code",
   "execution_count": 26,
   "metadata": {},
   "outputs": [
    {
     "data": {
      "text/latex": [
       "$\\displaystyle 1$"
      ],
      "text/plain": [
       "1"
      ]
     },
     "execution_count": 26,
     "metadata": {},
     "output_type": "execute_result"
    }
   ],
   "source": [
    "op(seq_y(-2), op(y,y))"
   ]
  }
 ],
 "metadata": {
  "kernelspec": {
   "display_name": "venv_maths",
   "language": "python",
   "name": "python3"
  },
  "language_info": {
   "codemirror_mode": {
    "name": "ipython",
    "version": 3
   },
   "file_extension": ".py",
   "mimetype": "text/x-python",
   "name": "python",
   "nbconvert_exporter": "python",
   "pygments_lexer": "ipython3",
   "version": "3.12.4"
  }
 },
 "nbformat": 4,
 "nbformat_minor": 2
}

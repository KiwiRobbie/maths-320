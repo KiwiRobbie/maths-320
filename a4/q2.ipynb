{
 "cells": [
  {
   "cell_type": "code",
   "execution_count": 1,
   "metadata": {},
   "outputs": [],
   "source": [
    "import sympy as sp\n",
    "import numpy as np"
   ]
  },
  {
   "cell_type": "code",
   "execution_count": null,
   "metadata": {},
   "outputs": [],
   "source": [
    "y = 1\n",
    "n = np.inf\n",
    "\n",
    "np.array([\n",
    "#    0  1  2  3  4  5  6  7\n",
    "    [n, 1, n, n, 1, n, n, n], # 0\n",
    "    [1, n, 1, n, n, 1, n, n], # 1\n",
    "    [n, 1, n, 1, n, n, 1, n], # 2\n",
    "    [n, n, 1, n, n, n, n, 1], # 3\n",
    "    [1, n, n, n, n, 1, n, n], # 4\n",
    "    [n, 1, n, n, 1, n, 1, n], # 5\n",
    "    [n, n, 1, n, n, 1, n, 1], # 6\n",
    "    [n, n, n, 1, n, n, 1, n], # 7\n",
    "])\n",
    "\n",
    "0 -- 1 -- 2 -- 3 \n",
    "|    |    |    |\n",
    "4 -- 5 -- 6 -- 7"
   ]
  }
 ],
 "metadata": {
  "kernelspec": {
   "display_name": "venv_maths",
   "language": "python",
   "name": "python3"
  },
  "language_info": {
   "codemirror_mode": {
    "name": "ipython",
    "version": 3
   },
   "file_extension": ".py",
   "mimetype": "text/x-python",
   "name": "python",
   "nbconvert_exporter": "python",
   "pygments_lexer": "ipython3",
   "version": "3.12.3"
  }
 },
 "nbformat": 4,
 "nbformat_minor": 2
}
